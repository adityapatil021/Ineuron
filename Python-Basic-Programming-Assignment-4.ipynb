{
 "cells": [
  {
   "cell_type": "code",
   "execution_count": 8,
   "id": "bd37160c",
   "metadata": {},
   "outputs": [
    {
     "name": "stdout",
     "output_type": "stream",
     "text": [
      "Please enter a natural no 5\n",
      "The factorial of the no is  120\n"
     ]
    }
   ],
   "source": [
    "a=int(input(\"Please enter a natural no \"))\n",
    "factorial=1\n",
    "while a>1:\n",
    "    factorial=factorial*a\n",
    "    a=a-1\n",
    "print(\"The factorial of the no is \",factorial)\n",
    "    "
   ]
  },
  {
   "cell_type": "code",
   "execution_count": 14,
   "id": "a5ccff1d",
   "metadata": {},
   "outputs": [
    {
     "name": "stdout",
     "output_type": "stream",
     "text": [
      "Please enter the table for which you have to display the multiplication123\n",
      "123 *1= 123\n",
      "123 *2= 246\n",
      "123 *3= 369\n",
      "123 *4= 492\n",
      "123 *5= 615\n",
      "123 *6= 738\n",
      "123 *7= 861\n",
      "123 *8= 984\n",
      "123 *9= 1107\n",
      "123 *10= 1230\n"
     ]
    }
   ],
   "source": [
    "b=int(input(\"Please enter the table for which you have to display the multiplication\"))\n",
    "\n",
    "print(b,\"*1=\",b*1)\n",
    "print(b,\"*2=\",b*2)\n",
    "print(b,\"*3=\",b*3)\n",
    "print(b,\"*4=\",b*4)\n",
    "print(b,\"*5=\",b*5)\n",
    "print(b,\"*6=\",b*6)\n",
    "print(b,\"*7=\",b*7)\n",
    "print(b,\"*8=\",b*8)\n",
    "print(b,\"*9=\",b*9)\n",
    "print(b,\"*10=\",b*10)"
   ]
  },
  {
   "cell_type": "code",
   "execution_count": 22,
   "id": "55a6e589",
   "metadata": {},
   "outputs": [
    {
     "name": "stdout",
     "output_type": "stream",
     "text": [
      "Please enter the no of iteration you want to go for fibonacci series10\n",
      "0 0\n",
      "1 1\n",
      "2 1\n",
      "3 2\n",
      "4 3\n",
      "5 5\n",
      "6 8\n",
      "7 13\n",
      "8 21\n",
      "9 34\n"
     ]
    }
   ],
   "source": [
    "c=int(input(\"Please enter the no of iteration you want to go for fibonacci series\"))\n",
    "a=\n",
    "b=0\n",
    "for i in range(c):\n",
    "    print(i,b)\n",
    "    a,b=b,a+b\n",
    "    c-=1\n",
    "    "
   ]
  },
  {
   "cell_type": "code",
   "execution_count": 16,
   "id": "29b40c1a",
   "metadata": {},
   "outputs": [
    {
     "name": "stdout",
     "output_type": "stream",
     "text": [
      "Please enter to check if the no. is Armstrong number300\n",
      "30 0\n",
      "3 0\n",
      "0 3\n",
      "27\n",
      "the no isn't armstrong no\n"
     ]
    }
   ],
   "source": [
    "arm=int(input(\"Please enter to check if the no. is Armstrong number\"))\n",
    "sum=0\n",
    "d=arm\n",
    "for i in range(len(str(d))):\n",
    "    d1=d%10\n",
    "    d=d//10\n",
    "    sum=sum+d1**3\n",
    "    print(d,d1)\n",
    "print(sum)\n",
    "if sum==arm:\n",
    "    print(\"the no\",d,\" is armstrong no\")\n",
    "    \n",
    "else:\n",
    "    print(\"the no isn't armstrong no\")"
   ]
  },
  {
   "cell_type": "code",
   "execution_count": null,
   "id": "e3e5fc33",
   "metadata": {},
   "outputs": [],
   "source": []
  },
  {
   "cell_type": "code",
   "execution_count": 20,
   "id": "9b203aff",
   "metadata": {},
   "outputs": [
    {
     "name": "stdout",
     "output_type": "stream",
     "text": [
      "Please enter the range till you have to find armstrong number400\n",
      "the no 0  is armstrong no\n",
      "the no 0  is armstrong no\n",
      "the no 0  is armstrong no\n",
      "the no 0  is armstrong no\n",
      "the no 0  is armstrong no\n"
     ]
    }
   ],
   "source": [
    "number=int(input(\"Please enter the range till you have to find armstrong number\"))\n",
    "arm=0\n",
    "for arm in range(number):\n",
    "    sum=0\n",
    "    d=arm\n",
    "    for j in range(len(str(d))):\n",
    "        d1=d%10\n",
    "        d=d//10\n",
    "        sum=sum+d1**3\n",
    "        #print(d,d1)\n",
    "    #print(sum)\n",
    "    if sum==arm:\n",
    "        print(\"the no\",d,\" is armstrong no\")\n",
    "\n",
    "    "
   ]
  },
  {
   "cell_type": "code",
   "execution_count": 23,
   "id": "33e52206",
   "metadata": {},
   "outputs": [
    {
     "name": "stdout",
     "output_type": "stream",
     "text": [
      "write the end till which you have to write the sum of natural number30\n",
      "465\n"
     ]
    }
   ],
   "source": [
    "x=int(input(\"write the end till which you have to write the sum of natural number\"))\n",
    "sum=0\n",
    "while x>0:\n",
    "    sum=sum+x\n",
    "    x=x-1\n",
    "print(sum)    "
   ]
  },
  {
   "cell_type": "code",
   "execution_count": 27,
   "id": "1813dd3b",
   "metadata": {},
   "outputs": [
    {
     "name": "stdout",
     "output_type": "stream",
     "text": [
      "30\n",
      "465.0\n"
     ]
    }
   ],
   "source": [
    "n=int(input())\n",
    "print(n*(n+1)/2)"
   ]
  },
  {
   "cell_type": "code",
   "execution_count": null,
   "id": "088ffed4",
   "metadata": {},
   "outputs": [],
   "source": []
  }
 ],
 "metadata": {
  "kernelspec": {
   "display_name": "Python 3",
   "language": "python",
   "name": "python3"
  },
  "language_info": {
   "codemirror_mode": {
    "name": "ipython",
    "version": 3
   },
   "file_extension": ".py",
   "mimetype": "text/x-python",
   "name": "python",
   "nbconvert_exporter": "python",
   "pygments_lexer": "ipython3",
   "version": "3.8.8"
  }
 },
 "nbformat": 4,
 "nbformat_minor": 5
}
