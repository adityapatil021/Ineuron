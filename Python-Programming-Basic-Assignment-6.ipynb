{
 "cells": [
  {
   "cell_type": "code",
   "execution_count": 2,
   "id": "9e30ea9c",
   "metadata": {},
   "outputs": [],
   "source": [
    "def fibo(sum):\n",
    "    pass\n",
    "    "
   ]
  },
  {
   "cell_type": "code",
   "execution_count": 4,
   "id": "d279cdeb",
   "metadata": {},
   "outputs": [
    {
     "name": "stdout",
     "output_type": "stream",
     "text": [
      "Please enter the value of which we want to enter the sum of cube5\n",
      "The cube sum of n natural number is  225\n"
     ]
    }
   ],
   "source": [
    "sum=0\n",
    "i=1\n",
    "n=int(input(\"Please enter the value of which we want to enter the sum of cube\"))\n",
    "while i<=n:\n",
    "    sum=sum+i**3\n",
    "    i=i+1\n",
    "\n",
    "print(\"The cube sum of n natural number is \",sum)\n",
    "    "
   ]
  },
  {
   "cell_type": "code",
   "execution_count": 78,
   "id": "9b71ba57",
   "metadata": {},
   "outputs": [],
   "source": [
    "def fibon(a,b):\n",
    "    if(a>100):\n",
    "        return 0\n",
    "    else:\n",
    "        print(b,a+b)\n",
    "        return fibon(b,a+b)\n",
    "    \n",
    "    "
   ]
  },
  {
   "cell_type": "code",
   "execution_count": 79,
   "id": "0279253d",
   "metadata": {},
   "outputs": [
    {
     "name": "stdout",
     "output_type": "stream",
     "text": [
      "4 6\n",
      "6 10\n",
      "10 16\n",
      "16 26\n",
      "26 42\n",
      "42 68\n",
      "68 110\n",
      "110 178\n"
     ]
    },
    {
     "data": {
      "text/plain": [
       "0"
      ]
     },
     "execution_count": 79,
     "metadata": {},
     "output_type": "execute_result"
    }
   ],
   "source": [
    "fibon(2,4)"
   ]
  },
  {
   "cell_type": "code",
   "execution_count": 73,
   "id": "9710a701",
   "metadata": {},
   "outputs": [],
   "source": [
    "def fact(d):\n",
    "    if d == 1:\n",
    "        return 1\n",
    "    else:\n",
    "        return (fact(d-1)*d)\n",
    "    "
   ]
  },
  {
   "cell_type": "code",
   "execution_count": 75,
   "id": "b95a8895",
   "metadata": {},
   "outputs": [
    {
     "data": {
      "text/plain": [
       "3628800"
      ]
     },
     "execution_count": 75,
     "metadata": {},
     "output_type": "execute_result"
    }
   ],
   "source": [
    "fact(10)"
   ]
  },
  {
   "cell_type": "code",
   "execution_count": 67,
   "id": "6030d878",
   "metadata": {},
   "outputs": [],
   "source": [
    "import math"
   ]
  },
  {
   "cell_type": "code",
   "execution_count": 37,
   "id": "0db6052e",
   "metadata": {},
   "outputs": [
    {
     "data": {
      "text/plain": [
       "2.302585092994046"
      ]
     },
     "execution_count": 37,
     "metadata": {},
     "output_type": "execute_result"
    }
   ],
   "source": [
    "math.log(10)"
   ]
  },
  {
   "cell_type": "code",
   "execution_count": 72,
   "id": "b398b103",
   "metadata": {},
   "outputs": [
    {
     "name": "stdout",
     "output_type": "stream",
     "text": [
      "The factorial of 3 is 6\n"
     ]
    }
   ],
   "source": [
    "def factorial(x):\n",
    "    \"\"\"This is a recursive function\n",
    "    to find the factorial of an integer\"\"\"\n",
    "\n",
    "    if x == 1:\n",
    "        return 1\n",
    "    else:\n",
    "        return (x * factorial(x-1))\n",
    "\n",
    "\n",
    "num = 3\n",
    "print(\"The factorial of\", num, \"is\", factorial(num))"
   ]
  },
  {
   "cell_type": "code",
   "execution_count": 81,
   "id": "7fa4046b",
   "metadata": {},
   "outputs": [
    {
     "name": "stdout",
     "output_type": "stream",
     "text": [
      "Enter the number for which you have to get a natural logarithm of 65\n",
      "4.174387269895637\n"
     ]
    }
   ],
   "source": [
    "n=int(input(\"Enter the number for which you have to get a natural logarithm of \"))\n",
    "print(math.log(n))"
   ]
  },
  {
   "cell_type": "code",
   "execution_count": null,
   "id": "72bb1914",
   "metadata": {},
   "outputs": [],
   "source": []
  }
 ],
 "metadata": {
  "kernelspec": {
   "display_name": "Python 3",
   "language": "python",
   "name": "python3"
  },
  "language_info": {
   "codemirror_mode": {
    "name": "ipython",
    "version": 3
   },
   "file_extension": ".py",
   "mimetype": "text/x-python",
   "name": "python",
   "nbconvert_exporter": "python",
   "pygments_lexer": "ipython3",
   "version": "3.8.8"
  }
 },
 "nbformat": 4,
 "nbformat_minor": 5
}
