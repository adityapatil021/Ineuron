{
 "cells": [
  {
   "cell_type": "code",
   "execution_count": 3,
   "id": "4ceb87f3",
   "metadata": {},
   "outputs": [
    {
     "name": "stdout",
     "output_type": "stream",
     "text": [
      "Please enter the kilometers67\n",
      "The miles for the particular kilomteter are : 41.631857000000004\n"
     ]
    }
   ],
   "source": [
    "\n",
    "a=float(input(\"Please enter the kilometers\"))\n",
    "print(\"The miles for the particular kilomteter are :\",a*0.621371)"
   ]
  },
  {
   "cell_type": "code",
   "execution_count": 16,
   "id": "ea7f924b",
   "metadata": {},
   "outputs": [
    {
     "name": "stdout",
     "output_type": "stream",
     "text": [
      "Enter the temperaturee in celsius34\n",
      "The farhenheite temperature is 93.2\n"
     ]
    }
   ],
   "source": [
    "b=float(input(\"Enter the temperaturee in celsius\"))\n",
    "\n",
    "c=(b * 9/5) + 32\n",
    "   \n",
    "print(\"The farhenheite temperature is\",c)"
   ]
  },
  {
   "cell_type": "code",
   "execution_count": 17,
   "id": "97a2e4f2",
   "metadata": {},
   "outputs": [],
   "source": [
    "import calendar"
   ]
  },
  {
   "cell_type": "code",
   "execution_count": 18,
   "id": "f165f368",
   "metadata": {},
   "outputs": [
    {
     "name": "stdout",
     "output_type": "stream",
     "text": [
      "Please enter the year1998\n",
      "Please enter the month04\n",
      "     April 1998\n",
      "Mo Tu We Th Fr Sa Su\n",
      "       1  2  3  4  5\n",
      " 6  7  8  9 10 11 12\n",
      "13 14 15 16 17 18 19\n",
      "20 21 22 23 24 25 26\n",
      "27 28 29 30\n",
      "\n"
     ]
    }
   ],
   "source": [
    "yy=int(input(\"Please enter the year\"))\n",
    "mm=int(input(\"Please enter the month\"))\n",
    "print(calendar.month(yy, mm))"
   ]
  },
  {
   "cell_type": "code",
   "execution_count": 35,
   "id": "c3a64b24",
   "metadata": {},
   "outputs": [],
   "source": [
    "def quad(a,b,c):\n",
    "    dis=b**2-4*a*c\n",
    "    \n",
    "    if dis<0:\n",
    "        print(\"The roots are imaginary\")\n",
    "    else:\n",
    "        root1=(-b+math.sqrt(dis))/2*a\n",
    "        root2=(-b-math.sqrt(dis))/2*a\n",
    "        print(\"The roots of the equation are:\",root1,root2)    \n",
    "    "
   ]
  },
  {
   "cell_type": "code",
   "execution_count": 36,
   "id": "90148e89",
   "metadata": {},
   "outputs": [
    {
     "name": "stdout",
     "output_type": "stream",
     "text": [
      "The roots are imaginary\n"
     ]
    }
   ],
   "source": [
    "quad(4,2,6)"
   ]
  },
  {
   "cell_type": "code",
   "execution_count": 37,
   "id": "f2bfd530",
   "metadata": {},
   "outputs": [
    {
     "name": "stdout",
     "output_type": "stream",
     "text": [
      "The roots of the equation are: -1.3542486889354093 -6.645751311064591\n"
     ]
    }
   ],
   "source": [
    "quad(1,8,9)"
   ]
  },
  {
   "cell_type": "code",
   "execution_count": 30,
   "id": "d1b43450",
   "metadata": {},
   "outputs": [],
   "source": [
    "import math"
   ]
  },
  {
   "cell_type": "code",
   "execution_count": 31,
   "id": "f924cb7e",
   "metadata": {},
   "outputs": [
    {
     "data": {
      "text/plain": [
       "3.0"
      ]
     },
     "execution_count": 31,
     "metadata": {},
     "output_type": "execute_result"
    }
   ],
   "source": [
    "math.sqrt(9)"
   ]
  },
  {
   "cell_type": "code",
   "execution_count": 38,
   "id": "47fcb46a",
   "metadata": {},
   "outputs": [],
   "source": [
    "#swap 2 no.s without using 3rd variable"
   ]
  },
  {
   "cell_type": "code",
   "execution_count": 40,
   "id": "762c88aa",
   "metadata": {},
   "outputs": [
    {
     "name": "stdout",
     "output_type": "stream",
     "text": [
      "Write the first no4\n",
      "Write the 2nd no 5\n",
      "The first no is  5 The second no is  4\n"
     ]
    }
   ],
   "source": [
    "a=int(input(\"Write the first no\"))\n",
    "b=int(input(\"Write the 2nd no \"))\n",
    "a=a+b\n",
    "b=a-b\n",
    "a=a-b\n",
    "print(\"The first no is \",a,\"The second no is \",b)"
   ]
  },
  {
   "cell_type": "code",
   "execution_count": null,
   "id": "063c6b02",
   "metadata": {},
   "outputs": [],
   "source": []
  }
 ],
 "metadata": {
  "kernelspec": {
   "display_name": "Python 3",
   "language": "python",
   "name": "python3"
  },
  "language_info": {
   "codemirror_mode": {
    "name": "ipython",
    "version": 3
   },
   "file_extension": ".py",
   "mimetype": "text/x-python",
   "name": "python",
   "nbconvert_exporter": "python",
   "pygments_lexer": "ipython3",
   "version": "3.8.8"
  }
 },
 "nbformat": 4,
 "nbformat_minor": 5
}
