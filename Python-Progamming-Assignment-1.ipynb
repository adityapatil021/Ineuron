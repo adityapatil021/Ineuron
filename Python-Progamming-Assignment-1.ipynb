{
 "cells": [
  {
   "cell_type": "code",
   "execution_count": 1,
   "id": "114f996e",
   "metadata": {},
   "outputs": [
    {
     "name": "stdout",
     "output_type": "stream",
     "text": [
      "Hello Python\n"
     ]
    }
   ],
   "source": [
    "print(\"Hello Python\")"
   ]
  },
  {
   "cell_type": "code",
   "execution_count": 3,
   "id": "8d435a8b",
   "metadata": {},
   "outputs": [
    {
     "name": "stdout",
     "output_type": "stream",
     "text": [
      "Please enter first no23\n",
      "Please enter your second no34\n",
      "The addition is  57\n",
      "The division is  0.6764705882352942\n"
     ]
    }
   ],
   "source": [
    "a=int(input(\"Please enter first no\"))\n",
    "b=int(input(\"Please enter your second no\"))\n",
    "print(\"The addition is \",a+b)\n",
    "print(\"The division is \",a/b)"
   ]
  },
  {
   "cell_type": "code",
   "execution_count": 4,
   "id": "98ab65c4",
   "metadata": {},
   "outputs": [
    {
     "name": "stdout",
     "output_type": "stream",
     "text": [
      "Please enter the base of the triangle3\n",
      "Please enter the height of the triangle4\n",
      "The area of the triangle is  6.0\n"
     ]
    }
   ],
   "source": [
    "a=int(input(\"Please enter the base of the triangle\"))\n",
    "b=int(input(\"Please enter the height of the triangle\"))\n",
    "print(\"The area of the triangle is \",0.5*a*b)"
   ]
  },
  {
   "cell_type": "code",
   "execution_count": 13,
   "id": "6747611f",
   "metadata": {},
   "outputs": [
    {
     "name": "stdout",
     "output_type": "stream",
     "text": [
      "Please enter your first no34\n",
      "First no is  34\n",
      "Please enter your second no 65\n",
      "Second no is  65\n",
      "The no after swapping are :The first no 65 The second no is  34\n"
     ]
    }
   ],
   "source": [
    "a=int(input(\"Please enter your first no\"))\n",
    "print(\"First no is \",a)\n",
    "b=int(input(\"Please enter your second no \"))\n",
    "print(\"Second no is \",b)\n",
    "c=a\n",
    "a=b\n",
    "b=c\n",
    "print(\"The no after swapping are :The first no\",a ,\"The second no is \",b)"
   ]
  },
  {
   "cell_type": "code",
   "execution_count": 22,
   "id": "2135dadc",
   "metadata": {},
   "outputs": [
    {
     "data": {
      "text/plain": [
       "93"
      ]
     },
     "execution_count": 22,
     "metadata": {},
     "output_type": "execute_result"
    }
   ],
   "source": [
    "import random\n",
    "random.randint(0,100)"
   ]
  },
  {
   "cell_type": "code",
   "execution_count": null,
   "id": "5df119a9",
   "metadata": {},
   "outputs": [],
   "source": []
  },
  {
   "cell_type": "code",
   "execution_count": null,
   "id": "20fccd49",
   "metadata": {},
   "outputs": [],
   "source": []
  }
 ],
 "metadata": {
  "kernelspec": {
   "display_name": "Python 3",
   "language": "python",
   "name": "python3"
  },
  "language_info": {
   "codemirror_mode": {
    "name": "ipython",
    "version": 3
   },
   "file_extension": ".py",
   "mimetype": "text/x-python",
   "name": "python",
   "nbconvert_exporter": "python",
   "pygments_lexer": "ipython3",
   "version": "3.8.8"
  }
 },
 "nbformat": 4,
 "nbformat_minor": 5
}
