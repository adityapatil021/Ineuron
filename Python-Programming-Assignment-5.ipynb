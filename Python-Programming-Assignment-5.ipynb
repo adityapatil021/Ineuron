{
 "cells": [
  {
   "cell_type": "code",
   "execution_count": 2,
   "id": "7bbe9be9",
   "metadata": {},
   "outputs": [
    {
     "name": "stdout",
     "output_type": "stream",
     "text": [
      "Please enter 1 number you want to find a LCM of4\n",
      "Please enter 2 number you want to find a LCM of6\n",
      "The LCM and HCF of the no. is  12 2\n"
     ]
    }
   ],
   "source": [
    "a=int(input(\"Please enter 1 number you want to find a LCM of\"))\n",
    "b=int(input(\"Please enter 2 number you want to find a LCM of\"))\n",
    "if a>b:\n",
    "    x=a\n",
    "else:\n",
    "    x=b\n",
    "    \n",
    "    for i in range(1,x+1):\n",
    "        if(a%i==0)and(b%i==0):\n",
    "            hcf=i\n",
    "    \n",
    "    for j in range(x,a*b):\n",
    "        if(j%a==0)and(j%b==0):\n",
    "            lcm=j\n",
    "print(\"The LCM and HCF of the no. is \",lcm,hcf)\n",
    "            \n",
    "    \n",
    "    \n",
    "    "
   ]
  },
  {
   "cell_type": "code",
   "execution_count": 4,
   "id": "eb848970",
   "metadata": {},
   "outputs": [
    {
     "name": "stdout",
     "output_type": "stream",
     "text": [
      "Please input your decimal number45334\n",
      "0o130426\n",
      "0b1011000100010110\n",
      "0xb116\n"
     ]
    }
   ],
   "source": [
    "x=int(input(\"Please input your decimal number\"))\n",
    "\n",
    "print(oct(x))\n",
    "print(bin(x))\n",
    "print(hex(x))"
   ]
  },
  {
   "cell_type": "code",
   "execution_count": 7,
   "id": "21904168",
   "metadata": {},
   "outputs": [
    {
     "name": "stdout",
     "output_type": "stream",
     "text": [
      "The ascii value of character is  103\n"
     ]
    }
   ],
   "source": [
    "y='g'\n",
    "print(\"The ascii value of character is \",ord(y))"
   ]
  },
  {
   "cell_type": "code",
   "execution_count": null,
   "id": "286d6125",
   "metadata": {},
   "outputs": [],
   "source": []
  }
 ],
 "metadata": {
  "kernelspec": {
   "display_name": "Python 3",
   "language": "python",
   "name": "python3"
  },
  "language_info": {
   "codemirror_mode": {
    "name": "ipython",
    "version": 3
   },
   "file_extension": ".py",
   "mimetype": "text/x-python",
   "name": "python",
   "nbconvert_exporter": "python",
   "pygments_lexer": "ipython3",
   "version": "3.8.8"
  }
 },
 "nbformat": 4,
 "nbformat_minor": 5
}
